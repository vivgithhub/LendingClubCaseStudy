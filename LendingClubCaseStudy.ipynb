{
 "cells": [
  {
   "cell_type": "code",
   "execution_count": 1,
   "id": "coordinate-multiple",
   "metadata": {},
   "outputs": [],
   "source": [
    "# importing all the required libraries for the case study\n",
    "import numpy as np\n",
    "import pandas as pd\n",
    "import matplotlib.pyplot as plt\n",
    "import seaborn as sns\n",
    "import warnings\n",
    "warnings.filterwarnings(\"ignore\")"
   ]
  },
  {
   "cell_type": "markdown",
   "id": "geographic-outdoors",
   "metadata": {},
   "source": [
    "# Step 1 : Data sourcing \n",
    "## In this section we will load the data from csv file to the pandas dataframe"
   ]
  },
  {
   "cell_type": "code",
   "execution_count": 2,
   "id": "ecological-desire",
   "metadata": {},
   "outputs": [],
   "source": [
    "df = pd.read_csv('loan.csv')"
   ]
  },
  {
   "cell_type": "code",
   "execution_count": 3,
   "id": "owned-cargo",
   "metadata": {},
   "outputs": [
    {
     "name": "stdout",
     "output_type": "stream",
     "text": [
      "<class 'pandas.core.frame.DataFrame'>\n",
      "RangeIndex: 39717 entries, 0 to 39716\n",
      "Columns: 111 entries, id to total_il_high_credit_limit\n",
      "dtypes: float64(74), int64(13), object(24)\n",
      "memory usage: 33.6+ MB\n"
     ]
    }
   ],
   "source": [
    "df.info()"
   ]
  },
  {
   "cell_type": "markdown",
   "id": "miniature-minority",
   "metadata": {},
   "source": [
    "## High level summary of data\n",
    "* There are total 111 columns in the data\n",
    "* There are total 39717 records present in the data"
   ]
  },
  {
   "cell_type": "markdown",
   "id": "dynamic-marathon",
   "metadata": {},
   "source": [
    "# Step 2 : Data cleaning\n",
    "## In this section we will remove duplicates, finding missing values and imputing with correct values and find outliers"
   ]
  },
  {
   "cell_type": "code",
   "execution_count": 4,
   "id": "outdoor-height",
   "metadata": {},
   "outputs": [
    {
     "data": {
      "text/plain": [
       "39717"
      ]
     },
     "execution_count": 4,
     "metadata": {},
     "output_type": "execute_result"
    }
   ],
   "source": [
    "#First let's try to find out of if there is any duplicate rows for the same member\n",
    "df['member_id'].value_counts().sum()\n",
    "# sum of unique member_id is matching with the total number of rows so there is no duplicate data for the same member"
   ]
  },
  {
   "cell_type": "code",
   "execution_count": 5,
   "id": "greek-vancouver",
   "metadata": {},
   "outputs": [],
   "source": [
    "#First let's find out the columns which are having only null values\n",
    "drop_cols = df.isna().sum().sort_values(ascending=False)"
   ]
  },
  {
   "cell_type": "code",
   "execution_count": 6,
   "id": "italian-dining",
   "metadata": {},
   "outputs": [],
   "source": [
    "drop_cols = list((drop_cols[drop_cols == 39717]).index)"
   ]
  },
  {
   "cell_type": "code",
   "execution_count": 7,
   "id": "seventh-choice",
   "metadata": {},
   "outputs": [
    {
     "data": {
      "text/plain": [
       "Index(['verification_status_joint', 'annual_inc_joint', 'mo_sin_old_rev_tl_op',\n",
       "       'mo_sin_old_il_acct', 'bc_util', 'bc_open_to_buy', 'avg_cur_bal',\n",
       "       'acc_open_past_24mths', 'inq_last_12m', 'total_cu_tl', 'inq_fi',\n",
       "       'total_rev_hi_lim', 'all_util', 'max_bal_bc', 'open_rv_24m',\n",
       "       'open_rv_12m', 'il_util', 'total_bal_il', 'mths_since_rcnt_il',\n",
       "       'open_il_24m', 'open_il_12m', 'open_il_6m', 'open_acc_6m',\n",
       "       'tot_cur_bal', 'tot_coll_amt', 'mo_sin_rcnt_rev_tl_op',\n",
       "       'mo_sin_rcnt_tl', 'mort_acc', 'num_rev_tl_bal_gt_0', 'total_bc_limit',\n",
       "       'total_bal_ex_mort', 'tot_hi_cred_lim', 'percent_bc_gt_75',\n",
       "       'pct_tl_nvr_dlq', 'num_tl_op_past_12m', 'num_tl_90g_dpd_24m',\n",
       "       'num_tl_30dpd', 'num_tl_120dpd_2m', 'num_sats', 'num_rev_accts',\n",
       "       'mths_since_recent_bc', 'num_op_rev_tl', 'num_il_tl', 'num_bc_tl',\n",
       "       'num_bc_sats', 'num_actv_rev_tl', 'num_actv_bc_tl',\n",
       "       'num_accts_ever_120_pd', 'mths_since_recent_revol_delinq',\n",
       "       'mths_since_recent_inq', 'mths_since_recent_bc_dlq', 'dti_joint',\n",
       "       'total_il_high_credit_limit', 'mths_since_last_major_derog'],\n",
       "      dtype='object')"
      ]
     },
     "execution_count": 7,
     "metadata": {},
     "output_type": "execute_result"
    }
   ],
   "source": [
    "#verifying once again before dropping these 53 columns\n",
    "df[drop_cols].columns"
   ]
  },
  {
   "cell_type": "code",
   "execution_count": 8,
   "id": "bizarre-mathematics",
   "metadata": {},
   "outputs": [],
   "source": [
    "# storing the data after dropping the columns into a new dataframe df_set1 so that in case if previous data to be restored it is available in df\n",
    "df_set1 = df.drop(labels= drop_cols,axis = 1)  # this will drop 54 columns from the dataset and will be kept in df_set1"
   ]
  },
  {
   "cell_type": "code",
   "execution_count": 10,
   "id": "freelance-ethnic",
   "metadata": {},
   "outputs": [
    {
     "name": "stdout",
     "output_type": "stream",
     "text": [
      "<class 'pandas.core.frame.DataFrame'>\n",
      "RangeIndex: 39717 entries, 0 to 39716\n",
      "Data columns (total 57 columns):\n",
      " #   Column                      Non-Null Count  Dtype  \n",
      "---  ------                      --------------  -----  \n",
      " 0   id                          39717 non-null  int64  \n",
      " 1   member_id                   39717 non-null  int64  \n",
      " 2   loan_amnt                   39717 non-null  int64  \n",
      " 3   funded_amnt                 39717 non-null  int64  \n",
      " 4   funded_amnt_inv             39717 non-null  float64\n",
      " 5   term                        39717 non-null  object \n",
      " 6   int_rate                    39717 non-null  object \n",
      " 7   installment                 39717 non-null  float64\n",
      " 8   grade                       39717 non-null  object \n",
      " 9   sub_grade                   39717 non-null  object \n",
      " 10  emp_title                   37258 non-null  object \n",
      " 11  emp_length                  38642 non-null  object \n",
      " 12  home_ownership              39717 non-null  object \n",
      " 13  annual_inc                  39717 non-null  float64\n",
      " 14  verification_status         39717 non-null  object \n",
      " 15  issue_d                     39717 non-null  object \n",
      " 16  loan_status                 39717 non-null  object \n",
      " 17  pymnt_plan                  39717 non-null  object \n",
      " 18  url                         39717 non-null  object \n",
      " 19  desc                        26777 non-null  object \n",
      " 20  purpose                     39717 non-null  object \n",
      " 21  title                       39706 non-null  object \n",
      " 22  zip_code                    39717 non-null  object \n",
      " 23  addr_state                  39717 non-null  object \n",
      " 24  dti                         39717 non-null  float64\n",
      " 25  delinq_2yrs                 39717 non-null  int64  \n",
      " 26  earliest_cr_line            39717 non-null  object \n",
      " 27  inq_last_6mths              39717 non-null  int64  \n",
      " 28  mths_since_last_delinq      14035 non-null  float64\n",
      " 29  mths_since_last_record      2786 non-null   float64\n",
      " 30  open_acc                    39717 non-null  int64  \n",
      " 31  pub_rec                     39717 non-null  int64  \n",
      " 32  revol_bal                   39717 non-null  int64  \n",
      " 33  revol_util                  39667 non-null  object \n",
      " 34  total_acc                   39717 non-null  int64  \n",
      " 35  initial_list_status         39717 non-null  object \n",
      " 36  out_prncp                   39717 non-null  float64\n",
      " 37  out_prncp_inv               39717 non-null  float64\n",
      " 38  total_pymnt                 39717 non-null  float64\n",
      " 39  total_pymnt_inv             39717 non-null  float64\n",
      " 40  total_rec_prncp             39717 non-null  float64\n",
      " 41  total_rec_int               39717 non-null  float64\n",
      " 42  total_rec_late_fee          39717 non-null  float64\n",
      " 43  recoveries                  39717 non-null  float64\n",
      " 44  collection_recovery_fee     39717 non-null  float64\n",
      " 45  last_pymnt_d                39646 non-null  object \n",
      " 46  last_pymnt_amnt             39717 non-null  float64\n",
      " 47  next_pymnt_d                1140 non-null   object \n",
      " 48  last_credit_pull_d          39715 non-null  object \n",
      " 49  collections_12_mths_ex_med  39661 non-null  float64\n",
      " 50  policy_code                 39717 non-null  int64  \n",
      " 51  application_type            39717 non-null  object \n",
      " 52  acc_now_delinq              39717 non-null  int64  \n",
      " 53  chargeoff_within_12_mths    39661 non-null  float64\n",
      " 54  delinq_amnt                 39717 non-null  int64  \n",
      " 55  pub_rec_bankruptcies        39020 non-null  float64\n",
      " 56  tax_liens                   39678 non-null  float64\n",
      "dtypes: float64(20), int64(13), object(24)\n",
      "memory usage: 17.3+ MB\n"
     ]
    }
   ],
   "source": [
    "df_set1.info()  # with this cleanup now the total no of columns left is 57"
   ]
  },
  {
   "cell_type": "code",
   "execution_count": 12,
   "id": "powered-hunter",
   "metadata": {},
   "outputs": [],
   "source": [
    "# From the above information we can see that there are 3 more columns which we can further analyze for cleanup\n",
    "# since they have very few values\n",
    "# next_pymnt_d , mths_since_last_record and mths_since_last_delinq\n",
    "# since these columns have very few values available they can be dropped\n",
    "\n",
    "drop_cols = ['next_pymnt_d','mths_since_last_record','mths_since_last_delinq']\n",
    "df_set1.drop(labels= drop_cols,axis = 1 ,inplace= True)"
   ]
  },
  {
   "cell_type": "code",
   "execution_count": 13,
   "id": "spread-moses",
   "metadata": {},
   "outputs": [
    {
     "name": "stdout",
     "output_type": "stream",
     "text": [
      "<class 'pandas.core.frame.DataFrame'>\n",
      "RangeIndex: 39717 entries, 0 to 39716\n",
      "Data columns (total 54 columns):\n",
      " #   Column                      Non-Null Count  Dtype  \n",
      "---  ------                      --------------  -----  \n",
      " 0   id                          39717 non-null  int64  \n",
      " 1   member_id                   39717 non-null  int64  \n",
      " 2   loan_amnt                   39717 non-null  int64  \n",
      " 3   funded_amnt                 39717 non-null  int64  \n",
      " 4   funded_amnt_inv             39717 non-null  float64\n",
      " 5   term                        39717 non-null  object \n",
      " 6   int_rate                    39717 non-null  object \n",
      " 7   installment                 39717 non-null  float64\n",
      " 8   grade                       39717 non-null  object \n",
      " 9   sub_grade                   39717 non-null  object \n",
      " 10  emp_title                   37258 non-null  object \n",
      " 11  emp_length                  38642 non-null  object \n",
      " 12  home_ownership              39717 non-null  object \n",
      " 13  annual_inc                  39717 non-null  float64\n",
      " 14  verification_status         39717 non-null  object \n",
      " 15  issue_d                     39717 non-null  object \n",
      " 16  loan_status                 39717 non-null  object \n",
      " 17  pymnt_plan                  39717 non-null  object \n",
      " 18  url                         39717 non-null  object \n",
      " 19  desc                        26777 non-null  object \n",
      " 20  purpose                     39717 non-null  object \n",
      " 21  title                       39706 non-null  object \n",
      " 22  zip_code                    39717 non-null  object \n",
      " 23  addr_state                  39717 non-null  object \n",
      " 24  dti                         39717 non-null  float64\n",
      " 25  delinq_2yrs                 39717 non-null  int64  \n",
      " 26  earliest_cr_line            39717 non-null  object \n",
      " 27  inq_last_6mths              39717 non-null  int64  \n",
      " 28  open_acc                    39717 non-null  int64  \n",
      " 29  pub_rec                     39717 non-null  int64  \n",
      " 30  revol_bal                   39717 non-null  int64  \n",
      " 31  revol_util                  39667 non-null  object \n",
      " 32  total_acc                   39717 non-null  int64  \n",
      " 33  initial_list_status         39717 non-null  object \n",
      " 34  out_prncp                   39717 non-null  float64\n",
      " 35  out_prncp_inv               39717 non-null  float64\n",
      " 36  total_pymnt                 39717 non-null  float64\n",
      " 37  total_pymnt_inv             39717 non-null  float64\n",
      " 38  total_rec_prncp             39717 non-null  float64\n",
      " 39  total_rec_int               39717 non-null  float64\n",
      " 40  total_rec_late_fee          39717 non-null  float64\n",
      " 41  recoveries                  39717 non-null  float64\n",
      " 42  collection_recovery_fee     39717 non-null  float64\n",
      " 43  last_pymnt_d                39646 non-null  object \n",
      " 44  last_pymnt_amnt             39717 non-null  float64\n",
      " 45  last_credit_pull_d          39715 non-null  object \n",
      " 46  collections_12_mths_ex_med  39661 non-null  float64\n",
      " 47  policy_code                 39717 non-null  int64  \n",
      " 48  application_type            39717 non-null  object \n",
      " 49  acc_now_delinq              39717 non-null  int64  \n",
      " 50  chargeoff_within_12_mths    39661 non-null  float64\n",
      " 51  delinq_amnt                 39717 non-null  int64  \n",
      " 52  pub_rec_bankruptcies        39020 non-null  float64\n",
      " 53  tax_liens                   39678 non-null  float64\n",
      "dtypes: float64(18), int64(13), object(23)\n",
      "memory usage: 16.4+ MB\n"
     ]
    }
   ],
   "source": [
    "df_set1.info()\n",
    "# now we have 54 columns in the dataset"
   ]
  },
  {
   "cell_type": "code",
   "execution_count": 14,
   "id": "naked-journey",
   "metadata": {},
   "outputs": [],
   "source": [
    "# we don't need id and member_id for the analysis hence it can be dropped\n",
    "df_set1.drop(labels = ['id','member_id'], axis = 1, inplace=True)"
   ]
  },
  {
   "cell_type": "code",
   "execution_count": 15,
   "id": "selective-robin",
   "metadata": {},
   "outputs": [
    {
     "data": {
      "text/plain": [
       "loan_amnt                         0\n",
       "funded_amnt                       0\n",
       "funded_amnt_inv                   0\n",
       "term                              0\n",
       "int_rate                          0\n",
       "installment                       0\n",
       "grade                             0\n",
       "sub_grade                         0\n",
       "emp_title                      2459\n",
       "emp_length                     1075\n",
       "home_ownership                    0\n",
       "annual_inc                        0\n",
       "verification_status               0\n",
       "issue_d                           0\n",
       "loan_status                       0\n",
       "pymnt_plan                        0\n",
       "url                               0\n",
       "desc                          12940\n",
       "purpose                           0\n",
       "title                            11\n",
       "zip_code                          0\n",
       "addr_state                        0\n",
       "dti                               0\n",
       "delinq_2yrs                       0\n",
       "earliest_cr_line                  0\n",
       "inq_last_6mths                    0\n",
       "open_acc                          0\n",
       "pub_rec                           0\n",
       "revol_bal                         0\n",
       "revol_util                       50\n",
       "total_acc                         0\n",
       "initial_list_status               0\n",
       "out_prncp                         0\n",
       "out_prncp_inv                     0\n",
       "total_pymnt                       0\n",
       "total_pymnt_inv                   0\n",
       "total_rec_prncp                   0\n",
       "total_rec_int                     0\n",
       "total_rec_late_fee                0\n",
       "recoveries                        0\n",
       "collection_recovery_fee           0\n",
       "last_pymnt_d                     71\n",
       "last_pymnt_amnt                   0\n",
       "last_credit_pull_d                2\n",
       "collections_12_mths_ex_med       56\n",
       "policy_code                       0\n",
       "application_type                  0\n",
       "acc_now_delinq                    0\n",
       "chargeoff_within_12_mths         56\n",
       "delinq_amnt                       0\n",
       "pub_rec_bankruptcies            697\n",
       "tax_liens                        39\n",
       "dtype: int64"
      ]
     },
     "execution_count": 15,
     "metadata": {},
     "output_type": "execute_result"
    }
   ],
   "source": [
    "# let's check the columns which have null values\n",
    "df_set1.isna().sum()"
   ]
  },
  {
   "cell_type": "code",
   "execution_count": 16,
   "id": "favorite-taste",
   "metadata": {},
   "outputs": [],
   "source": [
    "# let's try to find out values in emp_title column\n",
    "df_set1.emp_title.value_counts()\n",
    "\n",
    "# emp_title mostly contains value of employer name for records created after 9/23/2013 hence it doesn't give much value to dataset hence it can be dropped\n",
    "df_set1.drop('emp_title', inplace= True , axis = 1)"
   ]
  },
  {
   "cell_type": "code",
   "execution_count": 17,
   "id": "historic-booth",
   "metadata": {},
   "outputs": [],
   "source": [
    "def fetchNumber(str_val):\n",
    "    num = int(''.join([letter for letter in str_val if letter.isdigit()])) if isinstance(str_val,str) else str_val\n",
    "    return num"
   ]
  },
  {
   "cell_type": "code",
   "execution_count": 18,
   "id": "insured-cambridge",
   "metadata": {},
   "outputs": [],
   "source": [
    "# now let's analyze the emp_length column\n",
    "df_set1['emp_length']\n",
    "\n",
    "# let's do 2 things here on emp_length column\n",
    "# 1. fill all the na values with zero\n",
    "# 2. strip out everything other than numeric value\n",
    "\n",
    "\n",
    "\n",
    "df_set1['emp_length'].fillna(0,inplace=True)\n",
    "df_set1['emp_length'] = df_set1['emp_length'].apply(lambda x :  fetchNumber(x))"
   ]
  },
  {
   "cell_type": "code",
   "execution_count": 19,
   "id": "monthly-china",
   "metadata": {},
   "outputs": [
    {
     "data": {
      "text/plain": [
       "10    8879\n",
       "1     7823\n",
       "2     4388\n",
       "3     4095\n",
       "4     3436\n",
       "5     3282\n",
       "6     2229\n",
       "7     1773\n",
       "8     1479\n",
       "9     1258\n",
       "0     1075\n",
       "Name: emp_length, dtype: int64"
      ]
     },
     "execution_count": 19,
     "metadata": {},
     "output_type": "execute_result"
    }
   ],
   "source": [
    "# value counts after fixing the emp_length column\n",
    "df_set1['emp_length'].value_counts()"
   ]
  },
  {
   "cell_type": "code",
   "execution_count": 20,
   "id": "suitable-civilization",
   "metadata": {},
   "outputs": [],
   "source": [
    "# removing desc column\n",
    "df_set1.drop('desc', inplace= True , axis = 1)"
   ]
  },
  {
   "cell_type": "code",
   "execution_count": 21,
   "id": "welsh-theater",
   "metadata": {},
   "outputs": [],
   "source": [
    "# removing url column as it doesn't give any value\n",
    "df_set1.drop('url', inplace= True , axis = 1)"
   ]
  },
  {
   "cell_type": "code",
   "execution_count": 22,
   "id": "printable-valuable",
   "metadata": {},
   "outputs": [],
   "source": [
    "#Fixing the term column by removings months string and making column an integer\n",
    "df_set1.term = df_set1.term.apply(lambda x : fetchNumber(x))"
   ]
  },
  {
   "cell_type": "code",
   "execution_count": 23,
   "id": "absolute-arthur",
   "metadata": {},
   "outputs": [],
   "source": [
    "# Removing % sign from interest rate column\n",
    "df_set1.int_rate = df_set1.int_rate.apply(lambda x : float(x[:-1]))"
   ]
  },
  {
   "cell_type": "code",
   "execution_count": 24,
   "id": "colonial-tyler",
   "metadata": {},
   "outputs": [],
   "source": [
    "# converting annual income to int value \n",
    "df_set1.annual_inc = df_set1.annual_inc.astype(int)"
   ]
  },
  {
   "cell_type": "code",
   "execution_count": 25,
   "id": "collect-aquarium",
   "metadata": {},
   "outputs": [],
   "source": [
    "# payment plan has single value n for all the columns hence it can be dropped\n",
    "df_set1.drop('pymnt_plan', inplace= True , axis = 1)"
   ]
  },
  {
   "cell_type": "code",
   "execution_count": 26,
   "id": "hungry-fault",
   "metadata": {},
   "outputs": [],
   "source": [
    "# zip_code column doesn't give much details for analysis hence it can be dropped\n",
    "df_set1.drop('zip_code', inplace= True , axis = 1)"
   ]
  },
  {
   "cell_type": "code",
   "execution_count": 27,
   "id": "mounted-corner",
   "metadata": {},
   "outputs": [],
   "source": [
    "# Removing % sign from revol_util column\n",
    "df_set1.revol_util = df_set1.revol_util.apply(lambda x : x if isinstance(x,float) else float(x[:-1]))"
   ]
  },
  {
   "cell_type": "code",
   "execution_count": 28,
   "id": "every-physiology",
   "metadata": {},
   "outputs": [
    {
     "data": {
      "text/plain": [
       "f    39717\n",
       "Name: initial_list_status, dtype: int64"
      ]
     },
     "execution_count": 28,
     "metadata": {},
     "output_type": "execute_result"
    }
   ],
   "source": [
    "#initial_list_status column has only single value\n",
    "df_set1.initial_list_status.value_counts()"
   ]
  },
  {
   "cell_type": "code",
   "execution_count": 29,
   "id": "killing-privilege",
   "metadata": {},
   "outputs": [],
   "source": [
    "#hence dropping initial_list_status column\n",
    "df_set1.drop('initial_list_status', inplace= True , axis = 1)"
   ]
  },
  {
   "cell_type": "code",
   "execution_count": 30,
   "id": "funky-suffering",
   "metadata": {},
   "outputs": [
    {
     "data": {
      "text/plain": [
       "0.0    39661\n",
       "Name: collections_12_mths_ex_med, dtype: int64"
      ]
     },
     "execution_count": 30,
     "metadata": {},
     "output_type": "execute_result"
    }
   ],
   "source": [
    "#collections_12_mths_ex_med column has only single value\n",
    "df_set1.collections_12_mths_ex_med.value_counts()"
   ]
  },
  {
   "cell_type": "code",
   "execution_count": 31,
   "id": "exotic-protection",
   "metadata": {},
   "outputs": [],
   "source": [
    "#hence dropping collections_12_mths_ex_med column\n",
    "df_set1.drop('collections_12_mths_ex_med', inplace= True , axis = 1)"
   ]
  },
  {
   "cell_type": "code",
   "execution_count": 32,
   "id": "decreased-blind",
   "metadata": {},
   "outputs": [
    {
     "data": {
      "text/plain": [
       "1    39717\n",
       "Name: policy_code, dtype: int64"
      ]
     },
     "execution_count": 32,
     "metadata": {},
     "output_type": "execute_result"
    }
   ],
   "source": [
    "#policy_code column has only single value\n",
    "df_set1.policy_code.value_counts()"
   ]
  },
  {
   "cell_type": "code",
   "execution_count": 33,
   "id": "median-secretary",
   "metadata": {},
   "outputs": [],
   "source": [
    "#hence dropping policy_code column\n",
    "df_set1.drop('policy_code', inplace= True , axis = 1)"
   ]
  },
  {
   "cell_type": "code",
   "execution_count": 34,
   "id": "african-savage",
   "metadata": {},
   "outputs": [
    {
     "data": {
      "text/plain": [
       "INDIVIDUAL    39717\n",
       "Name: application_type, dtype: int64"
      ]
     },
     "execution_count": 34,
     "metadata": {},
     "output_type": "execute_result"
    }
   ],
   "source": [
    "#application_type column has only single value\n",
    "df_set1.application_type.value_counts()"
   ]
  },
  {
   "cell_type": "code",
   "execution_count": 35,
   "id": "continental-syria",
   "metadata": {},
   "outputs": [],
   "source": [
    "#hence dropping application_type column\n",
    "df_set1.drop('application_type', inplace= True , axis = 1)"
   ]
  },
  {
   "cell_type": "code",
   "execution_count": 36,
   "id": "remarkable-justice",
   "metadata": {},
   "outputs": [
    {
     "data": {
      "text/plain": [
       "0    39717\n",
       "Name: acc_now_delinq, dtype: int64"
      ]
     },
     "execution_count": 36,
     "metadata": {},
     "output_type": "execute_result"
    }
   ],
   "source": [
    "#acc_now_delinq column has only single value\n",
    "df_set1.acc_now_delinq.value_counts()"
   ]
  },
  {
   "cell_type": "code",
   "execution_count": 37,
   "id": "liable-fraud",
   "metadata": {},
   "outputs": [],
   "source": [
    "#hence dropping acc_now_delinq column\n",
    "df_set1.drop('acc_now_delinq', inplace= True , axis = 1)"
   ]
  },
  {
   "cell_type": "code",
   "execution_count": 38,
   "id": "understanding-banks",
   "metadata": {},
   "outputs": [
    {
     "data": {
      "text/plain": [
       "0.0    39661\n",
       "Name: chargeoff_within_12_mths, dtype: int64"
      ]
     },
     "execution_count": 38,
     "metadata": {},
     "output_type": "execute_result"
    }
   ],
   "source": [
    "#chargeoff_within_12_mths column has only single value\n",
    "df_set1.chargeoff_within_12_mths.value_counts()"
   ]
  },
  {
   "cell_type": "code",
   "execution_count": 39,
   "id": "indonesian-tuesday",
   "metadata": {},
   "outputs": [],
   "source": [
    "#hence dropping chargeoff_within_12_mths column\n",
    "df_set1.drop('chargeoff_within_12_mths', inplace= True , axis = 1)"
   ]
  },
  {
   "cell_type": "code",
   "execution_count": 40,
   "id": "noble-blast",
   "metadata": {},
   "outputs": [
    {
     "data": {
      "text/plain": [
       "0    39717\n",
       "Name: delinq_amnt, dtype: int64"
      ]
     },
     "execution_count": 40,
     "metadata": {},
     "output_type": "execute_result"
    }
   ],
   "source": [
    "#delinq_amnt column has only single value\n",
    "df_set1.delinq_amnt.value_counts()"
   ]
  },
  {
   "cell_type": "code",
   "execution_count": 41,
   "id": "engaged-north",
   "metadata": {},
   "outputs": [],
   "source": [
    "#hence dropping delinq_amnt column\n",
    "df_set1.drop('delinq_amnt', inplace= True , axis = 1)"
   ]
  },
  {
   "cell_type": "code",
   "execution_count": 42,
   "id": "activated-brand",
   "metadata": {},
   "outputs": [
    {
     "data": {
      "text/plain": [
       "0.0    39678\n",
       "Name: tax_liens, dtype: int64"
      ]
     },
     "execution_count": 42,
     "metadata": {},
     "output_type": "execute_result"
    }
   ],
   "source": [
    "#tax_liens column has only single value\n",
    "df_set1.tax_liens.value_counts()"
   ]
  },
  {
   "cell_type": "code",
   "execution_count": 43,
   "id": "innovative-strengthening",
   "metadata": {},
   "outputs": [],
   "source": [
    "#hence dropping tax_liens column\n",
    "df_set1.drop('tax_liens', inplace= True , axis = 1)"
   ]
  },
  {
   "cell_type": "code",
   "execution_count": 327,
   "id": "recreational-serbia",
   "metadata": {},
   "outputs": [],
   "source": [
    "#hence dropping title column\n",
    "df_set1.drop('title', inplace= True , axis = 1)"
   ]
  },
  {
   "cell_type": "code",
   "execution_count": 354,
   "id": "handled-guinea",
   "metadata": {},
   "outputs": [],
   "source": [
    "#hence dropping title column\n",
    "df_set1.drop('delinq_2yrs', inplace= True , axis = 1)"
   ]
  },
  {
   "cell_type": "code",
   "execution_count": 426,
   "id": "combined-battery",
   "metadata": {},
   "outputs": [],
   "source": [
    "#hence dropping pub_rec_bankruptcies column\n",
    "df_set1.drop('pub_rec_bankruptcies', inplace= True , axis = 1)"
   ]
  },
  {
   "cell_type": "markdown",
   "id": "coupled-panama",
   "metadata": {},
   "source": [
    "### There are some columns which are post approvals since we are analyzing the factors which are important in loan approval hence we can remove the post approvals columns\n",
    "\n",
    "#### Post approval columns\n",
    "* revol_bal\n",
    "* out_prncp\n",
    "* out_prncp_inv\n",
    "* total_pymnt\n",
    "* total_pymnt_inv\n",
    "* total_rec_prncp\n",
    "* total_rec_int\n",
    "* last_pymnt_d\n",
    "* last_pymnt_amnt\n",
    "* last_credit_pull_d\n",
    "\n"
   ]
  },
  {
   "cell_type": "code",
   "execution_count": 161,
   "id": "numeric-holly",
   "metadata": {},
   "outputs": [],
   "source": [
    "post_approval_cols = ['revol_bal','out_prncp','out_prncp_inv','total_pymnt','total_pymnt_inv','total_rec_prncp','total_rec_int','last_pymnt_d','last_pymnt_amnt','last_credit_pull_d']\n",
    "df_set1.drop(columns=post_approval_cols, inplace= True , axis = 1)"
   ]
  },
  {
   "cell_type": "markdown",
   "id": "alien-bernard",
   "metadata": {},
   "source": [
    "### Now we will start filling missing values in the remaining columns"
   ]
  },
  {
   "cell_type": "code",
   "execution_count": 44,
   "id": "tribal-banana",
   "metadata": {},
   "outputs": [
    {
     "data": {
      "text/plain": [
       "title                    11\n",
       "revol_util               50\n",
       "last_pymnt_d             71\n",
       "last_credit_pull_d        2\n",
       "pub_rec_bankruptcies    697\n",
       "dtype: int64"
      ]
     },
     "execution_count": 44,
     "metadata": {},
     "output_type": "execute_result"
    }
   ],
   "source": [
    "# The columns which have null values\n",
    "df_set1.isna().sum()[df_set1.isna().sum() > 0]"
   ]
  },
  {
   "cell_type": "code",
   "execution_count": 45,
   "id": "global-identification",
   "metadata": {},
   "outputs": [],
   "source": [
    "# filling title value as 'Unknown' for missing values\n",
    "df_set1.title.fillna('Unknown',inplace=True)"
   ]
  },
  {
   "cell_type": "code",
   "execution_count": 46,
   "id": "experienced-longer",
   "metadata": {},
   "outputs": [
    {
     "data": {
      "text/plain": [
       "revol_util               50\n",
       "last_pymnt_d             71\n",
       "last_credit_pull_d        2\n",
       "pub_rec_bankruptcies    697\n",
       "dtype: int64"
      ]
     },
     "execution_count": 46,
     "metadata": {},
     "output_type": "execute_result"
    }
   ],
   "source": [
    "# columns which have missing values\n",
    "df_set1.isna().sum()[df_set1.isna().sum() > 0]"
   ]
  },
  {
   "cell_type": "code",
   "execution_count": 47,
   "id": "elegant-statistics",
   "metadata": {},
   "outputs": [
    {
     "name": "stdout",
     "output_type": "stream",
     "text": [
      "Mean value of revol_util 36.43\n"
     ]
    }
   ],
   "source": [
    "# mean of revol_util\n",
    "print(f'Mean value of revol_util {np.round(df_set1.revol_util.value_counts().mean(),2)}')\n",
    "# filling missing values for revol_util with the mean value\n",
    "df_set1.revol_util.fillna(36.43, inplace=True)\n",
    "\n",
    "# Not sure what value can be filled for this hence will just set keep this missing values for  last_pymnt_d\n",
    "# for pub_rec_bankruptcies there are 697 records where value is missing hence keeping missing values in this column\n",
    "# to avoid any discrepency\n"
   ]
  },
  {
   "cell_type": "code",
   "execution_count": 48,
   "id": "interior-lunch",
   "metadata": {},
   "outputs": [
    {
     "data": {
      "text/plain": [
       "last_pymnt_d             71\n",
       "pub_rec_bankruptcies    697\n",
       "dtype: int64"
      ]
     },
     "execution_count": 48,
     "metadata": {},
     "output_type": "execute_result"
    }
   ],
   "source": [
    "# there are just 2 records for which last_credit_pull_d is na\n",
    "# For many records last_pymnt_d and last_credit_pull_d is same hence we can keep last_pymnt_d as last_credit_pull_d for these 2 records\n",
    "\n",
    "df_set1.last_credit_pull_d.fillna(df_set1.last_pymnt_d, inplace=True)\n",
    "# null columns after this fix\n",
    "df_set1.isna().sum()[df_set1.isna().sum() > 0]"
   ]
  },
  {
   "cell_type": "code",
   "execution_count": 50,
   "id": "adapted-alaska",
   "metadata": {},
   "outputs": [],
   "source": [
    "# Rounding off the decimal values for the following columns to integer values for better analysis\n",
    "round_off_cols = ['funded_amnt_inv','installment','int_rate','out_prncp','out_prncp_inv','total_pymnt','total_pymnt_inv',\n",
    "                 'total_rec_prncp','total_rec_int','total_rec_late_fee','recoveries','collection_recovery_fee',\n",
    "                 'last_pymnt_amnt','dti','revol_util']\n",
    "df_set1[round_off_cols] = np.round(df_set1[round_off_cols]).astype(int)\n"
   ]
  },
  {
   "cell_type": "markdown",
   "id": "computational-dining",
   "metadata": {},
   "source": [
    "# Step 3 Univariate analysis"
   ]
  },
  {
   "cell_type": "markdown",
   "id": "generic-travel",
   "metadata": {},
   "source": [
    "### analyzing loan_amnt column"
   ]
  },
  {
   "cell_type": "code",
   "execution_count": 51,
   "id": "express-bosnia",
   "metadata": {},
   "outputs": [
    {
     "data": {
      "text/plain": [
       "count    39717.000000\n",
       "mean     11219.443815\n",
       "std       7456.670694\n",
       "min        500.000000\n",
       "25%       5500.000000\n",
       "50%      10000.000000\n",
       "75%      15000.000000\n",
       "max      35000.000000\n",
       "Name: loan_amnt, dtype: float64"
      ]
     },
     "execution_count": 51,
     "metadata": {},
     "output_type": "execute_result"
    }
   ],
   "source": [
    "# using decribe to see basic mean and percentiles\n",
    "df_set1.loan_amnt.describe()"
   ]
  },
  {
   "cell_type": "code",
   "execution_count": 52,
   "id": "copyrighted-asthma",
   "metadata": {},
   "outputs": [
    {
     "data": {
      "image/png": "[encoded data removed]",
      "text/plain": [
       "<Figure size 432x288 with 1 Axes>"
      ]
     },
     "metadata": {
      "needs_background": "light"
     },
     "output_type": "display_data"
    }
   ],
   "source": [
    "plt.boxplot(df_set1.loan_amnt)\n",
    "plt.title('Box plot showing distribution of loan amount')\n",
    "plt.show()"
   ]
  },
  {
   "cell_type": "markdown",
   "id": "failing-bouquet",
   "metadata": {},
   "source": [
    "### analyzing installment column"
   ]
  },
  {
   "cell_type": "code",
   "execution_count": 53,
   "id": "functioning-bailey",
   "metadata": {},
   "outputs": [
    {
     "data": {
      "text/plain": [
       "<AxesSubplot:xlabel='installment'>"
      ]
     },
     "execution_count": 53,
     "metadata": {},
     "output_type": "execute_result"
    },
    {
     "data": {
      "image/png": "[encoded data removed]",
      "text/plain": [
       "<Figure size 432x288 with 1 Axes>"
      ]
     },
     "metadata": {
      "needs_background": "light"
     },
     "output_type": "display_data"
    }
   ],
   "source": [
    "df_set1.installment.value_counts().sort_index()\n",
    "sns.boxplot(df_set1.installment)"
   ]
  },
  {
   "cell_type": "markdown",
   "id": "reported-essex",
   "metadata": {},
   "source": [
    "#### There are many outliers present in the installment data, we will further analyze other columns to see if outliers are continous then we will remove them"
   ]
  },
  {
   "cell_type": "code",
   "execution_count": 54,
   "id": "accomplished-royal",
   "metadata": {
    "scrolled": true
   },
   "outputs": [
    {
     "data": {
      "text/plain": [
       "<AxesSubplot:xlabel='annual_inc'>"
      ]
     },
     "execution_count": 54,
     "metadata": {},
     "output_type": "execute_result"
    },
    {
     "data": {
      "image/png": "[encoded data removed]",
      "text/plain": [
       "<Figure size 432x288 with 1 Axes>"
      ]
     },
     "metadata": {
      "needs_background": "light"
     },
     "output_type": "display_data"
    }
   ],
   "source": [
    "sns.boxplot(df_set1.annual_inc)"
   ]
  },
  {
   "cell_type": "markdown",
   "id": "wrapped-hometown",
   "metadata": {},
   "source": [
    "Annual income is showing a large number of outliers , we will try to clean this up"
   ]
  },
  {
   "cell_type": "code",
   "execution_count": 55,
   "id": "happy-disco",
   "metadata": {
    "scrolled": true
   },
   "outputs": [
    {
     "data": {
      "text/plain": [
       "count    3.971700e+04\n",
       "mean     6.896892e+04\n",
       "std      6.379377e+04\n",
       "min      4.000000e+03\n",
       "25%      4.040400e+04\n",
       "50%      5.900000e+04\n",
       "75%      8.230000e+04\n",
       "max      6.000000e+06\n",
       "Name: annual_inc, dtype: float64"
      ]
     },
     "execution_count": 55,
     "metadata": {},
     "output_type": "execute_result"
    }
   ],
   "source": [
    "df_set1.annual_inc.describe()"
   ]
  },
  {
   "cell_type": "code",
   "execution_count": 56,
   "id": "superb-bahamas",
   "metadata": {},
   "outputs": [
    {
     "name": "stdout",
     "output_type": "stream",
     "text": [
      "95th percentile for annual income 142000.0\n",
      "99th percentile for annual income 234999.36\n",
      "difference between 99th and 95th percentile 92999.35999999999\n",
      "difference between 99th and max 5765000.64\n"
     ]
    }
   ],
   "source": [
    "# let's find out the 90th and 95th percentile\n",
    "print(f'95th percentile for annual income {df_set1.annual_inc.quantile(.95)}')\n",
    "print(f'99th percentile for annual income {df_set1.annual_inc.quantile(.99)}')\n",
    "print(f'difference between 99th and 95th percentile {df_set1.annual_inc.quantile(.99) - df_set1.annual_inc.quantile(.95)}')\n",
    "print(f'difference between 99th and max {df_set1.annual_inc.max() - df_set1.annual_inc.quantile(.99)}')"
   ]
  },
  {
   "cell_type": "markdown",
   "id": "yellow-leone",
   "metadata": {},
   "source": [
    "> The difference between 99th and 100th percentile is very huge hence we can drop the records which are higher than 99th percentile value"
   ]
  },
  {
   "cell_type": "code",
   "execution_count": 57,
   "id": "affecting-kuwait",
   "metadata": {},
   "outputs": [],
   "source": [
    "df_set1 = df_set1[df_set1.annual_inc < df_set1.annual_inc.quantile(.99)]"
   ]
  },
  {
   "cell_type": "code",
   "execution_count": 58,
   "id": "attached-despite",
   "metadata": {
    "scrolled": true
   },
   "outputs": [
    {
     "data": {
      "text/plain": [
       "<AxesSubplot:xlabel='annual_inc'>"
      ]
     },
     "execution_count": 58,
     "metadata": {},
     "output_type": "execute_result"
    },
    {
     "data": {
      "image/png": "[encoded data removed]",
      "text/plain": [
       "<Figure size 432x288 with 1 Axes>"
      ]
     },
     "metadata": {
      "needs_background": "light"
     },
     "output_type": "display_data"
    }
   ],
   "source": [
    "# now let's plot the annual inc\n",
    "sns.boxplot(df_set1.annual_inc)"
   ]
  },
  {
   "cell_type": "code",
   "execution_count": 59,
   "id": "absolute-tournament",
   "metadata": {},
   "outputs": [
    {
     "data": {
      "text/plain": [
       "count     39319.000000\n",
       "mean      65524.209237\n",
       "std       35215.886563\n",
       "min        4000.000000\n",
       "25%       40000.000000\n",
       "50%       58000.000000\n",
       "75%       81000.000000\n",
       "max      234996.000000\n",
       "Name: annual_inc, dtype: float64"
      ]
     },
     "execution_count": 59,
     "metadata": {},
     "output_type": "execute_result"
    }
   ],
   "source": [
    "df_set1.annual_inc.describe()"
   ]
  },
  {
   "cell_type": "code",
   "execution_count": 60,
   "id": "agricultural-tamil",
   "metadata": {},
   "outputs": [
    {
     "name": "stdout",
     "output_type": "stream",
     "text": [
      "mean of revol_bal 8802.0\n",
      "the difference between 97th and 100th percentile 98098.54000000001\n"
     ]
    }
   ],
   "source": [
    "print(f'mean of revol_bal {df_set1.revol_bal.median()}')\n",
    "print(f'the difference between 97th and 100th percentile {df_set1.revol_bal.quantile(1) - df_set1.revol_bal.quantile(.97)}')\n",
    "\n"
   ]
  },
  {
   "cell_type": "code",
   "execution_count": 61,
   "id": "formed-bishop",
   "metadata": {},
   "outputs": [
    {
     "data": {
      "text/plain": [
       "<AxesSubplot:xlabel='revol_bal'>"
      ]
     },
     "execution_count": 61,
     "metadata": {},
     "output_type": "execute_result"
    },
    {
     "data": {
      "image/png": "[encoded data removed]",
      "text/plain": [
       "<Figure size 432x288 with 1 Axes>"
      ]
     },
     "metadata": {
      "needs_background": "light"
     },
     "output_type": "display_data"
    }
   ],
   "source": [
    "sns.boxplot(df_set1.revol_bal)"
   ]
  },
  {
   "cell_type": "markdown",
   "id": "anonymous-continent",
   "metadata": {},
   "source": [
    "The last 3 percentile of revol_bal is approx 12 times of mean hence we can drop these last 3% records for better understanding of data"
   ]
  },
  {
   "cell_type": "code",
   "execution_count": 62,
   "id": "insured-format",
   "metadata": {
    "scrolled": true
   },
   "outputs": [
    {
     "data": {
      "image/png": "[encoded data removed]",
      "text/plain": [
       "<Figure size 432x288 with 1 Axes>"
      ]
     },
     "metadata": {
      "needs_background": "light"
     },
     "output_type": "display_data"
    }
   ],
   "source": [
    "df_set1 = df_set1[df_set1.revol_bal < df_set1.revol_bal.quantile(.97) ]\n",
    "\n",
    "#plot the revol_bal on box plot to see the difference after removing such records\n",
    "sns.boxplot(df_set1.revol_bal)\n",
    "plt.show()"
   ]
  },
  {
   "cell_type": "code",
   "execution_count": 63,
   "id": "spread-unknown",
   "metadata": {
    "scrolled": true
   },
   "outputs": [
    {
     "data": {
      "image/png": "[encoded data removed]",
      "text/plain": [
       "<Figure size 432x288 with 1 Axes>"
      ]
     },
     "metadata": {
      "needs_background": "light"
     },
     "output_type": "display_data"
    }
   ],
   "source": [
    "# box plot of out_prncp\n",
    "sns.boxplot(df_set1.out_prncp)\n",
    "plt.show()"
   ]
  },
  {
   "cell_type": "code",
   "execution_count": 64,
   "id": "representative-semester",
   "metadata": {},
   "outputs": [
    {
     "name": "stdout",
     "output_type": "stream",
     "text": [
      "only 2.86% of records have values in out_prncp column\n"
     ]
    }
   ],
   "source": [
    "print(f'only {np.round(df_set1[df_set1.out_prncp > 0].shape[0]*100/df_set1.shape[0],2)}% of records have values in out_prncp column')\n",
    "# But we should not drop these values as they could be deriving factors to calculate loan status"
   ]
  },
  {
   "cell_type": "markdown",
   "id": "acting-marriage",
   "metadata": {},
   "source": [
    "total_rec_late_fee , recoveries and collection_recovery_fee columns are not adding any values in the analysis hence they can be dropped"
   ]
  },
  {
   "cell_type": "code",
   "execution_count": 65,
   "id": "express-atlas",
   "metadata": {},
   "outputs": [],
   "source": [
    "df_set1.drop(['total_rec_late_fee','recoveries','collection_recovery_fee'],inplace=True,axis = 1)"
   ]
  },
  {
   "cell_type": "code",
   "execution_count": 66,
   "id": "floating-surfing",
   "metadata": {},
   "outputs": [
    {
     "data": {
      "image/png": "[encoded data removed]",
      "text/plain": [
       "<Figure size 432x288 with 1 Axes>"
      ]
     },
     "metadata": {
      "needs_background": "light"
     },
     "output_type": "display_data"
    }
   ],
   "source": [
    "# let's create the distribution plot of loan_amnt column\n",
    "sns.histplot(df_set1.loan_amnt,kde = True, bins = 30)\n",
    "plt.title('Hist plot on distribution of loan amount')\n",
    "plt.show()\n"
   ]
  },
  {
   "cell_type": "markdown",
   "id": "measured-shipping",
   "metadata": {},
   "source": [
    "### Observation\n",
    "1. Most of the people borrow loan lesser than 15000\n",
    "2. Maximum number of people taken loan of amount 5000"
   ]
  },
  {
   "cell_type": "code",
   "execution_count": 67,
   "id": "ranging-muscle",
   "metadata": {},
   "outputs": [
    {
     "data": {
      "image/png": "[encoded data removed]",
      "text/plain": [
       "<Figure size 720x432 with 2 Axes>"
      ]
     },
     "metadata": {
      "needs_background": "light"
     },
     "output_type": "display_data"
    }
   ],
   "source": [
    "# let's create the distribution plot of loan_amnt column\n",
    "fig = plt.figure(figsize=(10,6))\n",
    "\n",
    "# ax = fig.add_subplot(1,2,1)\n",
    "# sns.histplot(df_set1.loan_amnt,kde = True, bins = 30)\n",
    "# ax.set_title('Distribution of loan amount')\n",
    "# plt.xlabel('Loan amount')\n",
    "\n",
    "ax = fig.add_subplot(1,2,1)\n",
    "sns.histplot(df_set1.funded_amnt,kde = True, bins = 30)\n",
    "ax.set_title('Distribution of funded amount')\n",
    "plt.xlabel('Funded amount')\n",
    "\n",
    "ax = fig.add_subplot(1,2,2)\n",
    "sns.histplot(df_set1.funded_amnt_inv,kde = True, bins = 30)\n",
    "ax.set_title('Distribution of investor funded amount')\n",
    "plt.xlabel('Investor Funded amount')\n",
    "\n",
    "plt.show()"
   ]
  },
  {
   "cell_type": "code",
   "execution_count": 158,
   "id": "distant-image",
   "metadata": {},
   "outputs": [],
   "source": [
    "df_set1.drop(['funded_amnt'],inplace=True,axis = 1)"
   ]
  },
  {
   "cell_type": "markdown",
   "id": "direct-williams",
   "metadata": {},
   "source": [
    "### Observation \n",
    "1. There is not much difference between the ditribution of funded amount and investor funded amount.\n",
    "2. We can drop funded_amnt column as we would get information required from funded_amnt_inv column"
   ]
  },
  {
   "cell_type": "code",
   "execution_count": 68,
   "id": "stuffed-thermal",
   "metadata": {
    "scrolled": true
   },
   "outputs": [
    {
     "data": {
      "image/png": "[encoded data removed]",
      "text/plain": [
       "<Figure size 432x288 with 1 Axes>"
      ]
     },
     "metadata": {
      "needs_background": "light"
     },
     "output_type": "display_data"
    }
   ],
   "source": [
    "sns.countplot(df_set1.term)\n",
    "plt.title('Count of records vs loan term ')\n",
    "plt.show()"
   ]
  },
  {
   "cell_type": "code",
   "execution_count": 69,
   "id": "removed-mayor",
   "metadata": {},
   "outputs": [
    {
     "name": "stdout",
     "output_type": "stream",
     "text": [
      "percentage of records term as 36 months 73.38%\n",
      "percentage of records term as 60 months 26.62%\n"
     ]
    }
   ],
   "source": [
    "print(f'percentage of records term as 36 months {np.round(df_set1.term.value_counts()*100/len(df_set1),2)[36]}%')\n",
    "print(f'percentage of records term as 60 months {np.round(df_set1.term.value_counts()*100/len(df_set1),2)[60]}%')"
   ]
  },
  {
   "cell_type": "code",
   "execution_count": 70,
   "id": "viral-relevance",
   "metadata": {
    "scrolled": true
   },
   "outputs": [
    {
     "data": {
      "image/png": "[encoded data removed]",
      "text/plain": [
       "<Figure size 432x288 with 1 Axes>"
      ]
     },
     "metadata": {
      "needs_background": "light"
     },
     "output_type": "display_data"
    },
    {
     "data": {
      "image/png": "[encoded data removed]",
      "text/plain": [
       "<Figure size 432x288 with 1 Axes>"
      ]
     },
     "metadata": {
      "needs_background": "light"
     },
     "output_type": "display_data"
    }
   ],
   "source": [
    "sns.distplot(df_set1.int_rate,bins =20)\n",
    "plt.title('Interest rate distribution plot')\n",
    "plt.show()\n",
    "sns.boxplot(df_set1.int_rate)\n",
    "plt.title('Box plot for interest rate')\n",
    "plt.show()"
   ]
  },
  {
   "cell_type": "markdown",
   "id": "thrown-collection",
   "metadata": {},
   "source": [
    "### Observation\n",
    "\n",
    "1. int_rate could be a very important feature in the analysis , from above plots it looks like there are not much outliers present in the dataset\n",
    "2. Most of the record has interest rate between 10-15%"
   ]
  },
  {
   "cell_type": "code",
   "execution_count": 71,
   "id": "solar-friendship",
   "metadata": {
    "scrolled": true
   },
   "outputs": [
    {
     "data": {
      "image/png": "[encoded data removed]",
      "text/plain": [
       "<Figure size 432x288 with 1 Axes>"
      ]
     },
     "metadata": {
      "needs_background": "light"
     },
     "output_type": "display_data"
    }
   ],
   "source": [
    "sns.boxplot(df_set1.installment)\n",
    "plt.title('Box plot for installment')\n",
    "plt.show()"
   ]
  },
  {
   "cell_type": "code",
   "execution_count": 73,
   "id": "consolidated-approach",
   "metadata": {},
   "outputs": [
    {
     "name": "stdout",
     "output_type": "stream",
     "text": [
      "857.0\n",
      "1305\n"
     ]
    }
   ],
   "source": [
    "print(df_set1.installment.quantile(.98))\n",
    "print(df_set1.installment.max())"
   ]
  },
  {
   "cell_type": "code",
   "execution_count": 74,
   "id": "billion-offer",
   "metadata": {},
   "outputs": [],
   "source": [
    "df_set1 = df_set1[df_set1.installment <= df_set1.installment.quantile(.98)]"
   ]
  },
  {
   "cell_type": "code",
   "execution_count": 75,
   "id": "chief-trinidad",
   "metadata": {
    "scrolled": false
   },
   "outputs": [
    {
     "data": {
      "image/png": "[encoded data removed]",
      "text/plain": [
       "<Figure size 432x288 with 1 Axes>"
      ]
     },
     "metadata": {
      "needs_background": "light"
     },
     "output_type": "display_data"
    }
   ],
   "source": [
    "sns.boxplot(df_set1.installment)\n",
    "plt.title('Box plot for installment')\n",
    "plt.show()"
   ]
  },
  {
   "cell_type": "markdown",
   "id": "opened-delaware",
   "metadata": {},
   "source": [
    "### Observation\n",
    "1. In the box plot draws for installment it can be seen that there are alot of outliers in the data\n",
    "2. We found out that difference between last 2 percentile data for installment is very high approx 500 which is way greater than the median value hence we dropped these records from the dataset\n",
    "3. Box plot plotted after removing last 2 percentile records looking better than the previous one"
   ]
  },
  {
   "cell_type": "code",
   "execution_count": 76,
   "id": "pretty-governor",
   "metadata": {
    "scrolled": false
   },
   "outputs": [
    {
     "data": {
      "image/png": "[encoded data removed]",
      "text/plain": [
       "<Figure size 432x288 with 1 Axes>"
      ]
     },
     "metadata": {
      "needs_background": "light"
     },
     "output_type": "display_data"
    }
   ],
   "source": [
    "# plotting count plot of the grade and subgrade columns\n",
    "sns.countplot(df_set1.grade)\n",
    "plt.title('Grade of loan')\n",
    "plt.show()"
   ]
  },
  {
   "cell_type": "code",
   "execution_count": 77,
   "id": "subjective-college",
   "metadata": {},
   "outputs": [
    {
     "data": {
      "text/plain": [
       "77.0"
      ]
     },
     "execution_count": 77,
     "metadata": {},
     "output_type": "execute_result"
    }
   ],
   "source": [
    "np.round(len(df_set1[df_set1.grade.isin(['A','B','C'])])*100/len(df_set1))"
   ]
  },
  {
   "cell_type": "markdown",
   "id": "perfect-massachusetts",
   "metadata": {},
   "source": [
    "### Observation\n",
    "1. Grades A,B and C are the largest type of grades where loan was given \n",
    "2. 77% percent of the loan is graded as A,B or C"
   ]
  },
  {
   "cell_type": "code",
   "execution_count": 78,
   "id": "juvenile-voltage",
   "metadata": {
    "scrolled": true
   },
   "outputs": [
    {
     "data": {
      "image/png": "[encoded data removed]",
      "text/plain": [
       "<Figure size 432x288 with 1 Axes>"
      ]
     },
     "metadata": {
      "needs_background": "light"
     },
     "output_type": "display_data"
    },
    {
     "data": {
      "image/png": "[encoded data removed]",
      "text/plain": [
       "<Figure size 432x288 with 1 Axes>"
      ]
     },
     "metadata": {
      "needs_background": "light"
     },
     "output_type": "display_data"
    }
   ],
   "source": [
    "sns.countplot(df_set1.emp_length)\n",
    "plt.show()\n",
    "sns.distplot(df_set1.emp_length,bins = 10)\n",
    "plt.show()"
   ]
  },
  {
   "cell_type": "markdown",
   "id": "excellent-legislature",
   "metadata": {},
   "source": [
    "### Observation\n",
    "1. From above plots we can see that employees with employment length 1 and 10 years experience are the largest receiver of the loans in the given dataset\n",
    "2. Spike can be seen at 1 year or 10 years which means most of the people get loan or either at entry level or the senior most employees"
   ]
  },
  {
   "cell_type": "code",
   "execution_count": 79,
   "id": "military-survey",
   "metadata": {},
   "outputs": [
    {
     "data": {
      "image/png": "[encoded data removed]",
      "text/plain": [
       "<Figure size 432x288 with 1 Axes>"
      ]
     },
     "metadata": {
      "needs_background": "light"
     },
     "output_type": "display_data"
    }
   ],
   "source": [
    "# This plot shows the frequency of home_membership in the data given\n",
    "# Most of the borrowers have either rented the home or paying mortgage for the home\n",
    "sns.countplot(df_set1.home_ownership)\n",
    "plt.show()"
   ]
  },
  {
   "cell_type": "code",
   "execution_count": 80,
   "id": "approved-government",
   "metadata": {
    "scrolled": true
   },
   "outputs": [
    {
     "data": {
      "image/png": "[encoded data removed]",
      "text/plain": [
       "<Figure size 432x288 with 1 Axes>"
      ]
     },
     "metadata": {
      "needs_background": "light"
     },
     "output_type": "display_data"
    }
   ],
   "source": [
    "df_set1.annual_inc.value_counts()\n",
    "sns.boxplot(df_set1.annual_inc)\n",
    "plt.title('Box plot on annual income')\n",
    "plt.show()"
   ]
  },
  {
   "cell_type": "code",
   "execution_count": 81,
   "id": "fewer-harmony",
   "metadata": {
    "scrolled": true
   },
   "outputs": [
    {
     "data": {
      "image/png": "[encoded data removed]",
      "text/plain": [
       "<Figure size 432x288 with 1 Axes>"
      ]
     },
     "metadata": {
      "needs_background": "light"
     },
     "output_type": "display_data"
    }
   ],
   "source": [
    "sns.distplot(df_set1.annual_inc)\n",
    "plt.title('Distribution of annual income')\n",
    "plt.show()"
   ]
  },
  {
   "cell_type": "code",
   "execution_count": 82,
   "id": "interior-somalia",
   "metadata": {},
   "outputs": [
    {
     "name": "stdout",
     "output_type": "stream",
     "text": [
      "95th percentile of annual income 155000.0\n",
      "Max anual income 234996\n",
      "No of records falling in last 2 percentile of annual income 745\n"
     ]
    }
   ],
   "source": [
    "print(f'95th percentile of annual income {df_set1.annual_inc.quantile(.98)}')\n",
    "print(f'Max anual income {df_set1.annual_inc.max()}')\n",
    "print(f'No of records falling in last 2 percentile of annual income {df_set1[df_set1.annual_inc > df_set1.annual_inc.quantile(.98)].shape[0]}')\n",
    "\n",
    "df_set1 = df_set1[df_set1.annual_inc <= df_set1.annual_inc.quantile(.98)]"
   ]
  },
  {
   "cell_type": "code",
   "execution_count": 83,
   "id": "pleasant-finnish",
   "metadata": {},
   "outputs": [
    {
     "data": {
      "image/png": "[encoded data removed]",
      "text/plain": [
       "<Figure size 432x288 with 1 Axes>"
      ]
     },
     "metadata": {
      "needs_background": "light"
     },
     "output_type": "display_data"
    }
   ],
   "source": [
    "df_set1.annual_inc.value_counts()\n",
    "sns.boxplot(df_set1.annual_inc)\n",
    "plt.title('Box plot on annual income')\n",
    "plt.show()"
   ]
  },
  {
   "cell_type": "markdown",
   "id": "downtown-trademark",
   "metadata": {},
   "source": [
    "### Observation\n",
    "1. Annual income could be an important variable to analyze further\n",
    "2. By anaylyzing box plot and hist plot on annual income it has been observed that there are plenty of outliers in the date.\n",
    "3. We found out that the difference between last 2 percentile of data is approx 85k which is causing the distribution being tailed at the end\n",
    "4. We removed these last 2 percentile of rows which were 745 rows and then plotted box plot again. The difference between box plots is clearly visible before and after removing the outliers."
   ]
  },
  {
   "cell_type": "code",
   "execution_count": 84,
   "id": "closing-listening",
   "metadata": {},
   "outputs": [
    {
     "data": {
      "image/png": "[encoded data removed]",
      "text/plain": [
       "<Figure size 432x288 with 1 Axes>"
      ]
     },
     "metadata": {
      "needs_background": "light"
     },
     "output_type": "display_data"
    }
   ],
   "source": [
    "# creating count plot on verification status\n",
    "sns.countplot(df_set1.verification_status)\n",
    "plt.show()\n",
    "\n",
    "# Count of Not verified records are greater than Verified and Source verified"
   ]
  },
  {
   "cell_type": "code",
   "execution_count": 104,
   "id": "activated-kernel",
   "metadata": {},
   "outputs": [],
   "source": [
    "df_set1['issue_d_mon'] = df_set1.issue_d.apply(lambda x : x[:3])\n",
    "df_set1['issue_d_year'] = df_set1.issue_d.apply(lambda x : x[-2:])"
   ]
  },
  {
   "cell_type": "markdown",
   "id": "incredible-inclusion",
   "metadata": {},
   "source": [
    "#### Extracted the month and year from issue_d column and saved it into new column for future analysis"
   ]
  },
  {
   "cell_type": "code",
   "execution_count": 119,
   "id": "residential-vitamin",
   "metadata": {},
   "outputs": [
    {
     "data": {
      "image/png": "[encoded data removed]",
      "text/plain": [
       "<Figure size 432x288 with 1 Axes>"
      ]
     },
     "metadata": {
      "needs_background": "light"
     },
     "output_type": "display_data"
    },
    {
     "data": {
      "image/png": "[encoded data removed]",
      "text/plain": [
       "<Figure size 432x288 with 1 Axes>"
      ]
     },
     "metadata": {
      "needs_background": "light"
     },
     "output_type": "display_data"
    }
   ],
   "source": [
    "df_set1.issue_d_year.value_counts().plot.bar()\n",
    "plt.xlabel('Issue Date Year')\n",
    "plt.ylabel('Count')\n",
    "plt.show()\n",
    "df_set1.issue_d_mon.value_counts().plot.bar()\n",
    "plt.xlabel('Issue Date Month')\n",
    "plt.ylabel('Count')\n",
    "plt.show()"
   ]
  },
  {
   "cell_type": "markdown",
   "id": "genuine-finland",
   "metadata": {},
   "source": [
    "1. No of loans issued are increasing every year from 2007 to 2011. Maximum loans were distributed in 2011\n",
    "2. Maximum no of loans were distributed in the month of Dec"
   ]
  },
  {
   "cell_type": "markdown",
   "id": "authorized-italy",
   "metadata": {},
   "source": [
    "# Bivariate analysis"
   ]
  },
  {
   "cell_type": "code",
   "execution_count": 129,
   "id": "enhanced-civilian",
   "metadata": {
    "scrolled": false
   },
   "outputs": [
    {
     "data": {
      "text/plain": [
       "<AxesSubplot:xlabel='loan_amnt'>"
      ]
     },
     "execution_count": 129,
     "metadata": {},
     "output_type": "execute_result"
    },
    {
     "data": {
      "image/png": "[encoded data removed]",
      "text/plain": [
       "<Figure size 432x288 with 1 Axes>"
      ]
     },
     "metadata": {
      "needs_background": "light"
     },
     "output_type": "display_data"
    }
   ],
   "source": [
    "sns.boxplot(df_set1.loan_amnt)\n",
    "plt.show()"
   ]
  },
  {
   "cell_type": "code",
   "execution_count": 135,
   "id": "dangerous-server",
   "metadata": {},
   "outputs": [
    {
     "name": "stdout",
     "output_type": "stream",
     "text": [
      "Last 5 percentile of loan amount 10750.0\n"
     ]
    }
   ],
   "source": [
    "print(f'Last 5 percentile of loan amount {df_set1.loan_amnt.quantile(1) - df_set1.loan_amnt.quantile(.95)}')"
   ]
  },
  {
   "cell_type": "code",
   "execution_count": 137,
   "id": "subjective-chrome",
   "metadata": {},
   "outputs": [
    {
     "data": {
      "image/png": "[encoded data removed]",
      "text/plain": [
       "<Figure size 432x288 with 1 Axes>"
      ]
     },
     "metadata": {
      "needs_background": "light"
     },
     "output_type": "display_data"
    }
   ],
   "source": [
    "df_set1 = df_set1[df_set1.loan_amnt < df_set1.loan_amnt.quantile(.95)]\n",
    "sns.boxplot(df_set1.loan_amnt)\n",
    "plt.show()"
   ]
  },
  {
   "cell_type": "markdown",
   "id": "sapphire-retailer",
   "metadata": {},
   "source": [
    "1. Removed last 5 percentile records mostly causing the outliers in loan amount\n",
    "2. Plotted the box plot after removing and it looks very clean"
   ]
  },
  {
   "cell_type": "markdown",
   "id": "initial-width",
   "metadata": {},
   "source": [
    "### Creating bins for loan_amount and will compare with charged_off records"
   ]
  },
  {
   "cell_type": "code",
   "execution_count": 146,
   "id": "transsexual-schema",
   "metadata": {},
   "outputs": [],
   "source": [
    "df_set1['loan_amnt_category'] = pd.cut(df_set1.loan_amnt, bins = 5, precision= 0, labels= ['0-5k','5k-10k','10k-15k','15k-20k','20k-25k'] )"
   ]
  },
  {
   "cell_type": "code",
   "execution_count": 186,
   "id": "august-hunter",
   "metadata": {},
   "outputs": [
    {
     "data": {
      "image/png": "[encoded data removed]",
      "text/plain": [
       "<Figure size 432x288 with 1 Axes>"
      ]
     },
     "metadata": {
      "needs_background": "light"
     },
     "output_type": "display_data"
    }
   ],
   "source": [
    "sns.countplot(data = df_set1[df_set1.loan_status == 'Charged Off'], x = 'loan_amnt_category')\n",
    "plt.xlabel('Loan amount category on Charged off loan status')\n",
    "plt.ylabel('Defaulter count')\n",
    "plt.show()"
   ]
  },
  {
   "cell_type": "markdown",
   "id": "gentle-edition",
   "metadata": {},
   "source": [
    "### Creating bins for funded_amnt_inv and will compare on charged_off records"
   ]
  },
  {
   "cell_type": "code",
   "execution_count": 168,
   "id": "adolescent-anniversary",
   "metadata": {},
   "outputs": [],
   "source": [
    "df_set1['fundec_amnt_inv_category'] = pd.cut(df_set1.funded_amnt_inv, bins = 5, precision= 0, labels= ['0-5k','5k-10k','10k-15k','15k-20k','20k-25k'] )"
   ]
  },
  {
   "cell_type": "code",
   "execution_count": 188,
   "id": "raised-mapping",
   "metadata": {
    "scrolled": true
   },
   "outputs": [
    {
     "data": {
      "image/png": "[encoded data removed]",
      "text/plain": [
       "<Figure size 432x288 with 1 Axes>"
      ]
     },
     "metadata": {
      "needs_background": "light"
     },
     "output_type": "display_data"
    }
   ],
   "source": [
    "sns.countplot(data = df_set1[df_set1.loan_status == 'Charged Off'], x = 'fundec_amnt_inv_category')\n",
    "plt.xlabel('Funden amount investor category on Charged off loan status')\n",
    "plt.ylabel('Defaulter count')\n",
    "plt.show()"
   ]
  },
  {
   "cell_type": "code",
   "execution_count": 190,
   "id": "civilian-stewart",
   "metadata": {},
   "outputs": [
    {
     "data": {
      "image/png": "[encoded data removed]",
      "text/plain": [
       "<Figure size 432x288 with 1 Axes>"
      ]
     },
     "metadata": {
      "needs_background": "light"
     },
     "output_type": "display_data"
    }
   ],
   "source": [
    "sns.countplot(data = df_set1[df_set1.loan_status == 'Charged Off'], x = 'term')\n",
    "plt.xlabel('Loan Term')\n",
    "plt.ylabel('Defaulter count')\n",
    "plt.show()"
   ]
  },
  {
   "cell_type": "markdown",
   "id": "arbitrary-lindsay",
   "metadata": {},
   "source": [
    "### Creating bins for interest rate and will compare on charged_off records"
   ]
  },
  {
   "cell_type": "markdown",
   "id": "statistical-reminder",
   "metadata": {},
   "source": [
    "### Creating bins for interest rate and will compare on charged_off records"
   ]
  },
  {
   "cell_type": "code",
   "execution_count": 177,
   "id": "religious-start",
   "metadata": {
    "scrolled": true
   },
   "outputs": [],
   "source": [
    "df_set1['int_rate_category'] = pd.cut(df_set1.int_rate, bins = 8, precision= 0, labels= ['5-7.5','7.5-10','10-12.5','12.5-15','15-17.5','17.5-20','20-22.5','>22.5'] )"
   ]
  },
  {
   "cell_type": "code",
   "execution_count": 207,
   "id": "rental-outside",
   "metadata": {
    "scrolled": true
   },
   "outputs": [
    {
     "data": {
      "image/png": "[encoded data removed]",
      "text/plain": [
       "<Figure size 432x288 with 1 Axes>"
      ]
     },
     "metadata": {
      "needs_background": "light"
     },
     "output_type": "display_data"
    }
   ],
   "source": [
    "sns.countplot(data = df_set1[df_set1.loan_status == 'Charged Off'], x = 'int_rate_category')\n",
    "plt.xlabel('Loan Term')\n",
    "plt.ylabel('Defaulter count')\n",
    "plt.show()\n"
   ]
  },
  {
   "cell_type": "code",
   "execution_count": 209,
   "id": "mexican-grenada",
   "metadata": {},
   "outputs": [
    {
     "data": {
      "image/png": "[encoded data removed]",
      "text/plain": [
       "<Figure size 432x288 with 1 Axes>"
      ]
     },
     "metadata": {
      "needs_background": "light"
     },
     "output_type": "display_data"
    }
   ],
   "source": [
    "sns.countplot(data = df_set1, x = 'int_rate_category',hue= 'loan_status')\n",
    "plt.xlabel('Loan Term')\n",
    "plt.ylabel('Defaulter count')\n",
    "plt.show()"
   ]
  },
  {
   "cell_type": "code",
   "execution_count": 255,
   "id": "involved-batman",
   "metadata": {},
   "outputs": [
    {
     "data": {
      "image/png": "[encoded data removed]",
      "text/plain": [
       "<Figure size 432x288 with 1 Axes>"
      ]
     },
     "metadata": {
      "needs_background": "light"
     },
     "output_type": "display_data"
    }
   ],
   "source": [
    "sns.histplot(data = df_set1,x= 'installment',bins = 10,hue = 'loan_status', palette='husl')\n",
    "plt.show()"
   ]
  },
  {
   "cell_type": "markdown",
   "id": "atmospheric-london",
   "metadata": {},
   "source": [
    "### Analyzing grade and subgrades"
   ]
  },
  {
   "cell_type": "code",
   "execution_count": 262,
   "id": "accepted-dispatch",
   "metadata": {},
   "outputs": [
    {
     "data": {
      "text/plain": [
       "<AxesSubplot:xlabel='grade', ylabel='count'>"
      ]
     },
     "execution_count": 262,
     "metadata": {},
     "output_type": "execute_result"
    },
    {
     "data": {
      "image/png": "[encoded data removed]",
      "text/plain": [
       "<Figure size 432x288 with 1 Axes>"
      ]
     },
     "metadata": {
      "needs_background": "light"
     },
     "output_type": "display_data"
    }
   ],
   "source": [
    "sns.countplot(data = df_set1[df_set1.loan_status == 'Charged Off'] , x = 'grade', order = ['A','B','C','D','E','F','G'])"
   ]
  },
  {
   "cell_type": "code",
   "execution_count": 277,
   "id": "recreational-cooperation",
   "metadata": {},
   "outputs": [],
   "source": [
    "df_set1['sub_grade_num'] = df_set1.sub_grade.apply(lambda x : int(x[-1]))"
   ]
  },
  {
   "cell_type": "code",
   "execution_count": 281,
   "id": "imposed-thanksgiving",
   "metadata": {
    "scrolled": true
   },
   "outputs": [
    {
     "data": {
      "image/png": "[encoded data removed]",
      "text/plain": [
       "<Figure size 864x360 with 1 Axes>"
      ]
     },
     "metadata": {
      "needs_background": "light"
     },
     "output_type": "display_data"
    }
   ],
   "source": [
    "fig = plt.figure(figsize = (12,5))\n",
    "sns.countplot(data = df_set1[df_set1.loan_status == 'Charged Off'] , x = 'grade', order = ['A','B','C','D','E','F','G'], hue = 'sub_grade_num', hue_order=[1,2,3,4,5])\n",
    "plt.show()"
   ]
  },
  {
   "cell_type": "markdown",
   "id": "looking-agreement",
   "metadata": {},
   "source": [
    "1. Maximum number of defaulters belong to Grade A, B and C\n",
    "2. For Grade B sub grade 1 and 2 are lower defaulters but for Grade C sub grade 1 and 2 are having larger number of defaulters.\n",
    "3. Sub grade 2 is having major defaulters in almost every category except Grade A and B"
   ]
  },
  {
   "cell_type": "code",
   "execution_count": 294,
   "id": "usual-perspective",
   "metadata": {},
   "outputs": [
    {
     "data": {
      "image/png": "[encoded data removed]",
      "text/plain": [
       "<Figure size 432x288 with 1 Axes>"
      ]
     },
     "metadata": {
      "needs_background": "light"
     },
     "output_type": "display_data"
    }
   ],
   "source": [
    "sns.countplot(data = df_set1[df_set1.loan_status == 'Charged Off'], x = 'home_ownership')\n",
    "plt.xlabel('Home Ownership')\n",
    "plt.ylabel('Defaulter count')\n",
    "plt.show()"
   ]
  },
  {
   "cell_type": "markdown",
   "id": "fossil-semiconductor",
   "metadata": {},
   "source": [
    "1. People who own the home are lesser in terms of defaulters\n",
    "2. Pepple who have home on rent or on mortgage have higher chances being defaulter"
   ]
  },
  {
   "cell_type": "code",
   "execution_count": 298,
   "id": "immediate-reviewer",
   "metadata": {
    "scrolled": true
   },
   "outputs": [
    {
     "data": {
      "image/png": "[encoded data removed]",
      "text/plain": [
       "<Figure size 432x288 with 1 Axes>"
      ]
     },
     "metadata": {
      "needs_background": "light"
     },
     "output_type": "display_data"
    }
   ],
   "source": [
    "sns.histplot(data = df_set1[df_set1.loan_status == 'Charged Off'],x= 'annual_inc',bins = 10, palette='husl')\n",
    "plt.show()"
   ]
  },
  {
   "cell_type": "markdown",
   "id": "fuzzy-stuff",
   "metadata": {},
   "source": [
    "1. People with lower income (20k to 70k) are higher number of defaulters compare to higher income people"
   ]
  },
  {
   "cell_type": "code",
   "execution_count": 302,
   "id": "municipal-accuracy",
   "metadata": {},
   "outputs": [
    {
     "data": {
      "image/png": "[encoded data removed]",
      "text/plain": [
       "<Figure size 432x288 with 1 Axes>"
      ]
     },
     "metadata": {
      "needs_background": "light"
     },
     "output_type": "display_data"
    }
   ],
   "source": [
    "sns.countplot(data = df_set1[df_set1.loan_status == 'Charged Off'], x = 'verification_status')\n",
    "plt.xlabel('Verification Status')\n",
    "plt.ylabel('Defaulter count')\n",
    "plt.show()"
   ]
  },
  {
   "cell_type": "markdown",
   "id": "threaded-dollar",
   "metadata": {},
   "source": [
    "1. Unverified loans have higher chances of being defaulter"
   ]
  },
  {
   "cell_type": "code",
   "execution_count": 317,
   "id": "alien-coordinate",
   "metadata": {},
   "outputs": [
    {
     "data": {
      "image/png": "[encoded data removed]",
      "text/plain": [
       "<Figure size 1440x720 with 1 Axes>"
      ]
     },
     "metadata": {
      "needs_background": "light"
     },
     "output_type": "display_data"
    }
   ],
   "source": [
    "fig = plt.figure(figsize = (20,10))\n",
    "sns.countplot(data = df_set1[df_set1.loan_status == 'Charged Off'], x = 'issue_d')\n",
    "plt.xlabel('Issue Month & Year')\n",
    "plt.ylabel('Defaulter count')\n",
    "plt.xticks(rotation = 90)\n",
    "plt.show()"
   ]
  },
  {
   "cell_type": "code",
   "execution_count": 322,
   "id": "thirty-birth",
   "metadata": {
    "scrolled": true
   },
   "outputs": [
    {
     "data": {
      "image/png": "[encoded data removed]",
      "text/plain": [
       "<Figure size 432x288 with 1 Axes>"
      ]
     },
     "metadata": {
      "needs_background": "light"
     },
     "output_type": "display_data"
    }
   ],
   "source": [
    "# fig = plt.figure(figsize = (20,10))\n",
    "\n",
    "sns.countplot(data = df_set1[df_set1.loan_status == 'Charged Off'], x = 'purpose')\n",
    "plt.xlabel('Purpose of loan')\n",
    "plt.ylabel('Defaulter count')\n",
    "plt.xticks(rotation = 90)\n",
    "plt.show()"
   ]
  },
  {
   "cell_type": "markdown",
   "id": "regular-xerox",
   "metadata": {},
   "source": [
    "Most of the people take loan for debt consolidation and it's the major contributor for defaulters"
   ]
  },
  {
   "cell_type": "code",
   "execution_count": 336,
   "id": "killing-lightning",
   "metadata": {
    "scrolled": true
   },
   "outputs": [
    {
     "data": {
      "image/png": "[encoded data removed]",
      "text/plain": [
       "<Figure size 1440x720 with 1 Axes>"
      ]
     },
     "metadata": {
      "needs_background": "light"
     },
     "output_type": "display_data"
    }
   ],
   "source": [
    "fig = plt.figure(figsize = (20,10))\n",
    "sns.countplot(data = df_set1[df_set1.loan_status == 'Charged Off'], x = 'addr_state')\n",
    "plt.xlabel('Issue Month & Year')\n",
    "plt.ylabel('Defaulter count')\n",
    "plt.xticks(rotation = 90)\n",
    "plt.show()"
   ]
  },
  {
   "cell_type": "markdown",
   "id": "legitimate-influence",
   "metadata": {},
   "source": [
    "CA , FL and NY are the top 3 state for defaulters"
   ]
  },
  {
   "cell_type": "code",
   "execution_count": 348,
   "id": "parallel-airline",
   "metadata": {},
   "outputs": [
    {
     "data": {
      "text/plain": [
       "<AxesSubplot:xlabel='dti', ylabel='Count'>"
      ]
     },
     "execution_count": 348,
     "metadata": {},
     "output_type": "execute_result"
    },
    {
     "data": {
      "image/png": "[encoded data removed]",
      "text/plain": [
       "<Figure size 432x288 with 1 Axes>"
      ]
     },
     "metadata": {
      "needs_background": "light"
     },
     "output_type": "display_data"
    }
   ],
   "source": [
    "df_set1.dti.value_counts()\n",
    "sns.histplot(df_set1[df_set1.loan_status == 'Charged Off']['dti'],bins = 30)"
   ]
  },
  {
   "cell_type": "markdown",
   "id": "declared-limit",
   "metadata": {},
   "source": [
    "People having dti value between 13 to 25 have more chances of being defaulter"
   ]
  },
  {
   "cell_type": "code",
   "execution_count": 371,
   "id": "failing-constitutional",
   "metadata": {},
   "outputs": [
    {
     "ename": "AttributeError",
     "evalue": "'DataFrame' object has no attribute 'earliest_cr_line'",
     "output_type": "error",
     "traceback": [
      "\u001b[0;31m---------------------------------------------------------------------------\u001b[0m",
      "\u001b[0;31mAttributeError\u001b[0m                            Traceback (most recent call last)",
      "\u001b[0;32m<ipython-input-371-b76dc3f11f90>\u001b[0m in \u001b[0;36m<module>\u001b[0;34m\u001b[0m\n\u001b[0;32m----> 1\u001b[0;31m \u001b[0mdf_set1\u001b[0m\u001b[0;34m[\u001b[0m\u001b[0;34m'earl_crline_year'\u001b[0m\u001b[0;34m]\u001b[0m \u001b[0;34m=\u001b[0m \u001b[0mdf_set1\u001b[0m\u001b[0;34m.\u001b[0m\u001b[0mearliest_cr_line\u001b[0m\u001b[0;34m.\u001b[0m\u001b[0mapply\u001b[0m\u001b[0;34m(\u001b[0m\u001b[0;32mlambda\u001b[0m \u001b[0mx\u001b[0m \u001b[0;34m:\u001b[0m \u001b[0mint\u001b[0m\u001b[0;34m(\u001b[0m\u001b[0;34m'19'\u001b[0m\u001b[0;34m+\u001b[0m\u001b[0mx\u001b[0m\u001b[0;34m[\u001b[0m\u001b[0;34m-\u001b[0m\u001b[0;36m2\u001b[0m\u001b[0;34m:\u001b[0m\u001b[0;34m]\u001b[0m\u001b[0;34m)\u001b[0m \u001b[0;32mif\u001b[0m \u001b[0mint\u001b[0m\u001b[0;34m(\u001b[0m\u001b[0mx\u001b[0m\u001b[0;34m[\u001b[0m\u001b[0;34m-\u001b[0m\u001b[0;36m2\u001b[0m\u001b[0;34m:\u001b[0m\u001b[0;34m]\u001b[0m\u001b[0;34m)\u001b[0m \u001b[0;34m>\u001b[0m \u001b[0;36m20\u001b[0m \u001b[0;32melse\u001b[0m \u001b[0mint\u001b[0m\u001b[0;34m(\u001b[0m\u001b[0;34m'20'\u001b[0m\u001b[0;34m+\u001b[0m\u001b[0mx\u001b[0m\u001b[0;34m[\u001b[0m\u001b[0;34m-\u001b[0m\u001b[0;36m2\u001b[0m\u001b[0;34m:\u001b[0m\u001b[0;34m]\u001b[0m\u001b[0;34m)\u001b[0m\u001b[0;34m)\u001b[0m\u001b[0;34m\u001b[0m\u001b[0m\n\u001b[0m\u001b[1;32m      2\u001b[0m \u001b[0mdf_set1\u001b[0m\u001b[0;34m.\u001b[0m\u001b[0mdrop\u001b[0m\u001b[0;34m(\u001b[0m\u001b[0mcolumns\u001b[0m \u001b[0;34m=\u001b[0m \u001b[0;34m[\u001b[0m\u001b[0;34m'earliest_cr_line'\u001b[0m\u001b[0;34m]\u001b[0m\u001b[0;34m,\u001b[0m \u001b[0maxis\u001b[0m \u001b[0;34m=\u001b[0m \u001b[0;36m1\u001b[0m \u001b[0;34m,\u001b[0m \u001b[0minplace\u001b[0m\u001b[0;34m=\u001b[0m\u001b[0;32mTrue\u001b[0m\u001b[0;34m)\u001b[0m\u001b[0;34m\u001b[0m\u001b[0m\n",
      "\u001b[0;32m~/opt/anaconda3/envs/NLP/lib/python3.7/site-packages/pandas/core/generic.py\u001b[0m in \u001b[0;36m__getattr__\u001b[0;34m(self, name)\u001b[0m\n\u001b[1;32m   5460\u001b[0m             \u001b[0;32mif\u001b[0m \u001b[0mself\u001b[0m\u001b[0;34m.\u001b[0m\u001b[0m_info_axis\u001b[0m\u001b[0;34m.\u001b[0m\u001b[0m_can_hold_identifiers_and_holds_name\u001b[0m\u001b[0;34m(\u001b[0m\u001b[0mname\u001b[0m\u001b[0;34m)\u001b[0m\u001b[0;34m:\u001b[0m\u001b[0;34m\u001b[0m\u001b[0m\n\u001b[1;32m   5461\u001b[0m                 \u001b[0;32mreturn\u001b[0m \u001b[0mself\u001b[0m\u001b[0;34m[\u001b[0m\u001b[0mname\u001b[0m\u001b[0;34m]\u001b[0m\u001b[0;34m\u001b[0m\u001b[0m\n\u001b[0;32m-> 5462\u001b[0;31m             \u001b[0;32mreturn\u001b[0m \u001b[0mobject\u001b[0m\u001b[0;34m.\u001b[0m\u001b[0m__getattribute__\u001b[0m\u001b[0;34m(\u001b[0m\u001b[0mself\u001b[0m\u001b[0;34m,\u001b[0m \u001b[0mname\u001b[0m\u001b[0;34m)\u001b[0m\u001b[0;34m\u001b[0m\u001b[0m\n\u001b[0m\u001b[1;32m   5463\u001b[0m \u001b[0;34m\u001b[0m\u001b[0m\n\u001b[1;32m   5464\u001b[0m     \u001b[0;32mdef\u001b[0m \u001b[0m__setattr__\u001b[0m\u001b[0;34m(\u001b[0m\u001b[0mself\u001b[0m\u001b[0;34m,\u001b[0m \u001b[0mname\u001b[0m\u001b[0;34m:\u001b[0m \u001b[0mstr\u001b[0m\u001b[0;34m,\u001b[0m \u001b[0mvalue\u001b[0m\u001b[0;34m)\u001b[0m \u001b[0;34m->\u001b[0m \u001b[0;32mNone\u001b[0m\u001b[0;34m:\u001b[0m\u001b[0;34m\u001b[0m\u001b[0m\n",
      "\u001b[0;31mAttributeError\u001b[0m: 'DataFrame' object has no attribute 'earliest_cr_line'"
     ]
    }
   ],
   "source": [
    "df_set1['earl_crline_year'] = df_set1.earliest_cr_line.apply(lambda x : int('19'+x[-2:]) if int(x[-2:]) > 20 else int('20'+x[-2:]))\n",
    "df_set1.drop(columns = ['earliest_cr_line'], axis = 1 , inplace=True)"
   ]
  },
  {
   "cell_type": "code",
   "execution_count": 383,
   "id": "quick-perspective",
   "metadata": {},
   "outputs": [
    {
     "data": {
      "image/png": "[encoded data removed]",
      "text/plain": [
       "<Figure size 1440x720 with 1 Axes>"
      ]
     },
     "metadata": {
      "needs_background": "light"
     },
     "output_type": "display_data"
    }
   ],
   "source": [
    "fig = plt.figure(figsize = (20,10))\n",
    "sns.countplot(data = df_set1[(df_set1.loan_status == 'Charged Off') & (df_set1.earl_crline_year > 1990)], x = 'earl_crline_year')\n",
    "plt.xlabel('Credit Line Start year')\n",
    "plt.ylabel('Defaulter count')\n",
    "plt.xticks(rotation = 90)\n",
    "plt.show()"
   ]
  },
  {
   "cell_type": "code",
   "execution_count": 388,
   "id": "individual-philippines",
   "metadata": {},
   "outputs": [
    {
     "data": {
      "image/png": "[encoded data removed]",
      "text/plain": [
       "<Figure size 432x288 with 1 Axes>"
      ]
     },
     "metadata": {
      "needs_background": "light"
     },
     "output_type": "display_data"
    }
   ],
   "source": [
    "sns.countplot(data = df_set1[df_set1.loan_status == 'Charged Off'], x = 'inq_last_6mths')\n",
    "plt.xlabel('No of inquiries in last 6 months')\n",
    "plt.ylabel('Defaulter count')\n",
    "plt.show()"
   ]
  },
  {
   "cell_type": "code",
   "execution_count": 392,
   "id": "mighty-migration",
   "metadata": {
    "scrolled": true
   },
   "outputs": [
    {
     "data": {
      "text/plain": [
       "<AxesSubplot:xlabel='open_acc', ylabel='Count'>"
      ]
     },
     "execution_count": 392,
     "metadata": {},
     "output_type": "execute_result"
    },
    {
     "data": {
      "image/png": "[encoded data removed]",
      "text/plain": [
       "<Figure size 432x288 with 1 Axes>"
      ]
     },
     "metadata": {
      "needs_background": "light"
     },
     "output_type": "display_data"
    }
   ],
   "source": [
    "sns.histplot(df_set1[df_set1.loan_status == 'Charged Off']['open_acc'],bins = 10)"
   ]
  },
  {
   "cell_type": "markdown",
   "id": "sapphire-commons",
   "metadata": {},
   "source": [
    "Borrowers having open account between 5-10 have higher chances of being the defaulter"
   ]
  },
  {
   "cell_type": "code",
   "execution_count": 397,
   "id": "general-involvement",
   "metadata": {},
   "outputs": [
    {
     "data": {
      "image/png": "[encoded data removed]",
      "text/plain": [
       "<Figure size 432x288 with 1 Axes>"
      ]
     },
     "metadata": {
      "needs_background": "light"
     },
     "output_type": "display_data"
    }
   ],
   "source": [
    "sns.countplot(data = df_set1[df_set1.loan_status == 'Charged Off'], x = 'pub_rec')\n",
    "plt.xlabel('No of derogatory public record')\n",
    "plt.ylabel('Defaulter count')\n",
    "plt.show()"
   ]
  },
  {
   "cell_type": "code",
   "execution_count": 402,
   "id": "hundred-surname",
   "metadata": {
    "scrolled": true
   },
   "outputs": [
    {
     "data": {
      "text/plain": [
       "<AxesSubplot:xlabel='revol_util', ylabel='Count'>"
      ]
     },
     "execution_count": 402,
     "metadata": {},
     "output_type": "execute_result"
    },
    {
     "data": {
      "image/png": "[encoded data removed]",
      "text/plain": [
       "<Figure size 432x288 with 1 Axes>"
      ]
     },
     "metadata": {
      "needs_background": "light"
     },
     "output_type": "display_data"
    }
   ],
   "source": [
    "sns.histplot(df_set1[df_set1.loan_status == 'Charged Off']['revol_util'],bins = 5)"
   ]
  },
  {
   "cell_type": "markdown",
   "id": "potential-advance",
   "metadata": {},
   "source": [
    "Borrowers who are using credit utilization more than 60% have higher chances of being loan defaulter"
   ]
  },
  {
   "cell_type": "code",
   "execution_count": 410,
   "id": "another-aquarium",
   "metadata": {
    "scrolled": true
   },
   "outputs": [
    {
     "data": {
      "text/plain": [
       "<AxesSubplot:xlabel='total_acc', ylabel='Count'>"
      ]
     },
     "execution_count": 410,
     "metadata": {},
     "output_type": "execute_result"
    },
    {
     "data": {
      "image/png": "[encoded data removed]",
      "text/plain": [
       "<Figure size 432x288 with 1 Axes>"
      ]
     },
     "metadata": {
      "needs_background": "light"
     },
     "output_type": "display_data"
    }
   ],
   "source": [
    "sns.histplot(df_set1[df_set1.loan_status == 'Charged Off']['total_acc'],bins = 5)"
   ]
  },
  {
   "cell_type": "code",
   "execution_count": 423,
   "id": "perfect-copying",
   "metadata": {},
   "outputs": [
    {
     "data": {
      "image/png": "[encoded data removed]",
      "text/plain": [
       "<Figure size 432x288 with 1 Axes>"
      ]
     },
     "metadata": {
      "needs_background": "light"
     },
     "output_type": "display_data"
    }
   ],
   "source": [
    "sns.countplot(data = df_set1[df_set1.pub_rec_bankruptcies == 0], x = 'pub_rec_bankruptcies',hue = 'loan_status')\n",
    "plt.xlabel('No of derogatory public record')\n",
    "plt.ylabel('Defaulter count')\n",
    "plt.show()"
   ]
  },
  {
   "cell_type": "code",
   "execution_count": 427,
   "id": "authorized-cover",
   "metadata": {},
   "outputs": [
    {
     "name": "stdout",
     "output_type": "stream",
     "text": [
      "<class 'pandas.core.frame.DataFrame'>\n",
      "Int64Index: 34792 entries, 0 to 39716\n",
      "Data columns (total 28 columns):\n",
      " #   Column                    Non-Null Count  Dtype   \n",
      "---  ------                    --------------  -----   \n",
      " 0   loan_amnt                 34792 non-null  int64   \n",
      " 1   funded_amnt_inv           34792 non-null  int64   \n",
      " 2   term                      34792 non-null  int64   \n",
      " 3   int_rate                  34792 non-null  int64   \n",
      " 4   installment               34792 non-null  int64   \n",
      " 5   grade                     34792 non-null  object  \n",
      " 6   sub_grade                 34792 non-null  object  \n",
      " 7   emp_length                34792 non-null  int64   \n",
      " 8   home_ownership            34792 non-null  object  \n",
      " 9   annual_inc                34792 non-null  int64   \n",
      " 10  verification_status       34792 non-null  object  \n",
      " 11  issue_d                   34792 non-null  object  \n",
      " 12  loan_status               34792 non-null  object  \n",
      " 13  purpose                   34792 non-null  object  \n",
      " 14  addr_state                34792 non-null  object  \n",
      " 15  dti                       34792 non-null  int64   \n",
      " 16  inq_last_6mths            34792 non-null  int64   \n",
      " 17  open_acc                  34792 non-null  int64   \n",
      " 18  pub_rec                   34792 non-null  int64   \n",
      " 19  revol_util                34792 non-null  int64   \n",
      " 20  total_acc                 34792 non-null  int64   \n",
      " 21  issue_d_mon               34792 non-null  object  \n",
      " 22  issue_d_year              34792 non-null  object  \n",
      " 23  loan_amnt_category        34792 non-null  category\n",
      " 24  fundec_amnt_inv_category  34792 non-null  category\n",
      " 25  int_rate_category         34792 non-null  category\n",
      " 26  sub_grade_num             34792 non-null  int64   \n",
      " 27  earl_crline_year          34792 non-null  int64   \n",
      "dtypes: category(3), int64(15), object(10)\n",
      "memory usage: 8.0+ MB\n"
     ]
    }
   ],
   "source": [
    "df_set1.info()"
   ]
  },
  {
   "cell_type": "code",
   "execution_count": null,
   "id": "joined-swedish",
   "metadata": {},
   "outputs": [],
   "source": []
  }
 ],
 "metadata": {
  "kernelspec": {
   "display_name": "Python 3",
   "language": "python",
   "name": "python3"
  },
  "language_info": {
   "codemirror_mode": {
    "name": "ipython",
    "version": 3
   },
   "file_extension": ".py",
   "mimetype": "text/x-python",
   "name": "python",
   "nbconvert_exporter": "python",
   "pygments_lexer": "ipython3",
   "version": "3.7.0"
  }
 },
 "nbformat": 4,
 "nbformat_minor": 5
}
